{
 "cells": [
  {
   "cell_type": "markdown",
   "metadata": {},
   "source": [
    "# HT 5. Bayes Ingenuos\n",
    "\n",
    "## Miembros\n",
    "- Fabian Estuardo Juarez Tello 21440\n",
    "- Diego Estuardo Lemus Lopez 21469\n",
    "\n",
    "## Link al repositorio\n",
    "El repositorio puede ser visualizado [acá](https://github.com/TheDeloz-v2/MD-HT5.git)\n",
    "\n",
    "## Link al documento\n",
    "El documento puede ser visualizado [acá](https://docs.google.com/document/d/1Jp1iNUj7YtKWbv_oFLG0HXBa_PGml2X7em-fcjTMteY/edit?usp=sharing)"
   ]
  },
  {
   "cell_type": "code",
   "execution_count": 41,
   "metadata": {},
   "outputs": [],
   "source": [
    "import pandas as pd\n",
    "import numpy as np\n",
    "import matplotlib.pyplot as plt"
   ]
  },
  {
   "cell_type": "markdown",
   "metadata": {},
   "source": [
    "## Análisis exploratorio de los datos"
   ]
  },
  {
   "cell_type": "code",
   "execution_count": 42,
   "metadata": {},
   "outputs": [
    {
     "data": {
      "text/html": [
       "<div>\n",
       "<style scoped>\n",
       "    .dataframe tbody tr th:only-of-type {\n",
       "        vertical-align: middle;\n",
       "    }\n",
       "\n",
       "    .dataframe tbody tr th {\n",
       "        vertical-align: top;\n",
       "    }\n",
       "\n",
       "    .dataframe thead th {\n",
       "        text-align: right;\n",
       "    }\n",
       "</style>\n",
       "<table border=\"1\" class=\"dataframe\">\n",
       "  <thead>\n",
       "    <tr style=\"text-align: right;\">\n",
       "      <th></th>\n",
       "      <th>Id</th>\n",
       "      <th>MSSubClass</th>\n",
       "      <th>MSZoning</th>\n",
       "      <th>LotFrontage</th>\n",
       "      <th>LotArea</th>\n",
       "      <th>Street</th>\n",
       "      <th>Alley</th>\n",
       "      <th>LotShape</th>\n",
       "      <th>LandContour</th>\n",
       "      <th>Utilities</th>\n",
       "      <th>...</th>\n",
       "      <th>PoolArea</th>\n",
       "      <th>PoolQC</th>\n",
       "      <th>Fence</th>\n",
       "      <th>MiscFeature</th>\n",
       "      <th>MiscVal</th>\n",
       "      <th>MoSold</th>\n",
       "      <th>YrSold</th>\n",
       "      <th>SaleType</th>\n",
       "      <th>SaleCondition</th>\n",
       "      <th>SalePrice</th>\n",
       "    </tr>\n",
       "  </thead>\n",
       "  <tbody>\n",
       "    <tr>\n",
       "      <th>0</th>\n",
       "      <td>1</td>\n",
       "      <td>60</td>\n",
       "      <td>RL</td>\n",
       "      <td>65.0</td>\n",
       "      <td>8450</td>\n",
       "      <td>Pave</td>\n",
       "      <td>NaN</td>\n",
       "      <td>Reg</td>\n",
       "      <td>Lvl</td>\n",
       "      <td>AllPub</td>\n",
       "      <td>...</td>\n",
       "      <td>0</td>\n",
       "      <td>NaN</td>\n",
       "      <td>NaN</td>\n",
       "      <td>NaN</td>\n",
       "      <td>0</td>\n",
       "      <td>2</td>\n",
       "      <td>2008</td>\n",
       "      <td>WD</td>\n",
       "      <td>Normal</td>\n",
       "      <td>208500</td>\n",
       "    </tr>\n",
       "    <tr>\n",
       "      <th>1</th>\n",
       "      <td>2</td>\n",
       "      <td>20</td>\n",
       "      <td>RL</td>\n",
       "      <td>80.0</td>\n",
       "      <td>9600</td>\n",
       "      <td>Pave</td>\n",
       "      <td>NaN</td>\n",
       "      <td>Reg</td>\n",
       "      <td>Lvl</td>\n",
       "      <td>AllPub</td>\n",
       "      <td>...</td>\n",
       "      <td>0</td>\n",
       "      <td>NaN</td>\n",
       "      <td>NaN</td>\n",
       "      <td>NaN</td>\n",
       "      <td>0</td>\n",
       "      <td>5</td>\n",
       "      <td>2007</td>\n",
       "      <td>WD</td>\n",
       "      <td>Normal</td>\n",
       "      <td>181500</td>\n",
       "    </tr>\n",
       "    <tr>\n",
       "      <th>2</th>\n",
       "      <td>3</td>\n",
       "      <td>60</td>\n",
       "      <td>RL</td>\n",
       "      <td>68.0</td>\n",
       "      <td>11250</td>\n",
       "      <td>Pave</td>\n",
       "      <td>NaN</td>\n",
       "      <td>IR1</td>\n",
       "      <td>Lvl</td>\n",
       "      <td>AllPub</td>\n",
       "      <td>...</td>\n",
       "      <td>0</td>\n",
       "      <td>NaN</td>\n",
       "      <td>NaN</td>\n",
       "      <td>NaN</td>\n",
       "      <td>0</td>\n",
       "      <td>9</td>\n",
       "      <td>2008</td>\n",
       "      <td>WD</td>\n",
       "      <td>Normal</td>\n",
       "      <td>223500</td>\n",
       "    </tr>\n",
       "    <tr>\n",
       "      <th>3</th>\n",
       "      <td>4</td>\n",
       "      <td>70</td>\n",
       "      <td>RL</td>\n",
       "      <td>60.0</td>\n",
       "      <td>9550</td>\n",
       "      <td>Pave</td>\n",
       "      <td>NaN</td>\n",
       "      <td>IR1</td>\n",
       "      <td>Lvl</td>\n",
       "      <td>AllPub</td>\n",
       "      <td>...</td>\n",
       "      <td>0</td>\n",
       "      <td>NaN</td>\n",
       "      <td>NaN</td>\n",
       "      <td>NaN</td>\n",
       "      <td>0</td>\n",
       "      <td>2</td>\n",
       "      <td>2006</td>\n",
       "      <td>WD</td>\n",
       "      <td>Abnorml</td>\n",
       "      <td>140000</td>\n",
       "    </tr>\n",
       "    <tr>\n",
       "      <th>4</th>\n",
       "      <td>5</td>\n",
       "      <td>60</td>\n",
       "      <td>RL</td>\n",
       "      <td>84.0</td>\n",
       "      <td>14260</td>\n",
       "      <td>Pave</td>\n",
       "      <td>NaN</td>\n",
       "      <td>IR1</td>\n",
       "      <td>Lvl</td>\n",
       "      <td>AllPub</td>\n",
       "      <td>...</td>\n",
       "      <td>0</td>\n",
       "      <td>NaN</td>\n",
       "      <td>NaN</td>\n",
       "      <td>NaN</td>\n",
       "      <td>0</td>\n",
       "      <td>12</td>\n",
       "      <td>2008</td>\n",
       "      <td>WD</td>\n",
       "      <td>Normal</td>\n",
       "      <td>250000</td>\n",
       "    </tr>\n",
       "  </tbody>\n",
       "</table>\n",
       "<p>5 rows × 81 columns</p>\n",
       "</div>"
      ],
      "text/plain": [
       "   Id  MSSubClass MSZoning  LotFrontage  LotArea Street Alley LotShape  \\\n",
       "0   1          60       RL         65.0     8450   Pave   NaN      Reg   \n",
       "1   2          20       RL         80.0     9600   Pave   NaN      Reg   \n",
       "2   3          60       RL         68.0    11250   Pave   NaN      IR1   \n",
       "3   4          70       RL         60.0     9550   Pave   NaN      IR1   \n",
       "4   5          60       RL         84.0    14260   Pave   NaN      IR1   \n",
       "\n",
       "  LandContour Utilities  ... PoolArea PoolQC Fence MiscFeature MiscVal MoSold  \\\n",
       "0         Lvl    AllPub  ...        0    NaN   NaN         NaN       0      2   \n",
       "1         Lvl    AllPub  ...        0    NaN   NaN         NaN       0      5   \n",
       "2         Lvl    AllPub  ...        0    NaN   NaN         NaN       0      9   \n",
       "3         Lvl    AllPub  ...        0    NaN   NaN         NaN       0      2   \n",
       "4         Lvl    AllPub  ...        0    NaN   NaN         NaN       0     12   \n",
       "\n",
       "  YrSold  SaleType  SaleCondition  SalePrice  \n",
       "0   2008        WD         Normal     208500  \n",
       "1   2007        WD         Normal     181500  \n",
       "2   2008        WD         Normal     223500  \n",
       "3   2006        WD        Abnorml     140000  \n",
       "4   2008        WD         Normal     250000  \n",
       "\n",
       "[5 rows x 81 columns]"
      ]
     },
     "execution_count": 42,
     "metadata": {},
     "output_type": "execute_result"
    }
   ],
   "source": [
    "datos = pd.read_csv('train.csv')\n",
    "datos.head()"
   ]
  },
  {
   "cell_type": "code",
   "execution_count": 43,
   "metadata": {},
   "outputs": [],
   "source": [
    "from sklearn.preprocessing import LabelEncoder\n",
    "le = LabelEncoder()\n",
    "datos[\"MSZoning\"] = le.fit_transform(datos[\"MSZoning\"])\n",
    "datos[\"Street\"] = le.fit_transform(datos[\"Street\"])\n",
    "datos[\"Alley\"] = le.fit_transform(datos[\"Alley\"])\n",
    "datos[\"LotShape\"] = le.fit_transform(datos[\"LotShape\"])\n",
    "datos[\"LandContour\"] = le.fit_transform(datos[\"LandContour\"])\n",
    "datos[\"Utilities\"] = le.fit_transform(datos[\"Utilities\"])\n",
    "datos[\"LotConfig\"] = le.fit_transform(datos[\"LotConfig\"])\n",
    "datos[\"LandSlope\"] = datos[\"LandSlope\"].map({\n",
    "    \"Gtl\": 1,\n",
    "    \"Mod\": 2,\n",
    "    \"Sev\": 3\n",
    "})\n",
    "datos[\"Neighborhood\"] = le.fit_transform(datos[\"Neighborhood\"])\n",
    "datos[\"Condition1\"] = le.fit_transform(datos[\"Condition1\"])\n",
    "datos[\"Condition2\"] = le.fit_transform(datos[\"Condition2\"])\n",
    "datos[\"BldgType\"] = le.fit_transform(datos[\"BldgType\"])\n",
    "datos[\"HouseStyle\"] = le.fit_transform(datos[\"HouseStyle\"])\n",
    "datos[\"RoofStyle\"] = le.fit_transform(datos[\"RoofStyle\"])\n",
    "datos[\"RoofMatl\"] = le.fit_transform(datos[\"RoofMatl\"])\n",
    "datos[\"Exterior1st\"] = le.fit_transform(datos[\"Exterior1st\"])\n",
    "datos[\"Exterior2nd\"] = le.fit_transform(datos[\"Exterior2nd\"])\n",
    "datos[\"MasVnrType\"] = le.fit_transform(datos[\"MasVnrType\"])\n",
    "\n",
    "condition_map = {\n",
    "    \"Ex\": 5, \n",
    "    \"Gd\": 4, \n",
    "    \"TA\": 3, \n",
    "    \"Fa\": 2, \n",
    "    \"Po\": 1, \n",
    "    \"NA\": 0,\n",
    "}\n",
    "datos[\"ExterQual\"] = datos[\"ExterQual\"].map(condition_map)\n",
    "datos[\"ExterCond\"] = datos[\"ExterCond\"].map(condition_map)\n",
    "datos[\"Foundation\"] = le.fit_transform(datos[\"Foundation\"])\n",
    "datos[\"BsmtQual\"] = datos[\"BsmtQual\"].map(condition_map)\n",
    "datos[\"BsmtCond\"] = datos[\"BsmtCond\"].map(condition_map)\n",
    "datos[\"BsmtExposure\"] = datos[\"BsmtExposure\"].map({\n",
    "    \"Gd\": 4, \n",
    "    \"Av\": 3, \n",
    "    \"Mn\": 2, \n",
    "    \"No\": 1, \n",
    "    \"NA\": 0\n",
    "})\n",
    "datos[\"BsmtFinType1\"] = datos[\"BsmtFinType1\"].map({\n",
    "    \"GLQ\": 6, \n",
    "    \"ALQ\": 5, \n",
    "    \"BLQ\": 4, \n",
    "    \"Rec\": 3, \n",
    "    \"LwQ\": 2, \n",
    "    \"Unf\": 1, \n",
    "    \"NA\": 0\n",
    "})\n",
    "datos[\"BsmtFinType2\"] = datos[\"BsmtFinType2\"].map({\n",
    "    \"GLQ\": 6, \n",
    "    \"ALQ\": 5, \n",
    "    \"BLQ\": 4, \n",
    "    \"Rec\": 3, \n",
    "    \"LwQ\": 2, \n",
    "    \"Unf\": 1, \n",
    "    \"NA\": 0\n",
    "})\n",
    "datos[\"Heating\"] = le.fit_transform(datos[\"Heating\"])\n",
    "datos[\"HeatingQC\"] = datos[\"HeatingQC\"].map(condition_map)\n",
    "datos[\"CentralAir\"] = le.fit_transform(datos[\"CentralAir\"])\n",
    "datos[\"Electrical\"] = datos[\"Electrical\"].map({\n",
    "    \"SBrkr\": 5, \n",
    "    \"FuseA\": 4, \n",
    "    \"FuseF\": 3, \n",
    "    \"FuseP\": 2, \n",
    "    \"Mix\": 1, \n",
    "    \"NA\": 0\n",
    "})\n",
    "datos[\"KitchenQual\"] = datos[\"KitchenQual\"].map(condition_map)\n",
    "datos[\"Functional\"] = le.fit_transform(datos[\"Functional\"])\n",
    "datos[\"FireplaceQu\"] = datos[\"FireplaceQu\"].map(condition_map)\n",
    "datos[\"GarageType\"] = le.fit_transform(datos[\"GarageType\"])\n",
    "datos[\"GarageFinish\"] = datos[\"GarageFinish\"].map({\n",
    "    \"Fin\": 3, \n",
    "    \"RFn\": 2, \n",
    "    \"Unf\": 1, \n",
    "    \"NA\": 0\n",
    "})\n",
    "datos[\"GarageQual\"] = datos[\"GarageQual\"].map(condition_map)\n",
    "datos[\"GarageCond\"] = datos[\"GarageCond\"].map(condition_map)\n",
    "datos[\"PavedDrive\"] = datos[\"PavedDrive\"].map({\n",
    "    \"Y\": 3, \n",
    "    \"P\": 2, \n",
    "    \"N\": 1,\n",
    "    \"NA\": 0\n",
    "})\n",
    "datos[\"PoolQC\"] = datos[\"PoolQC\"].map(condition_map)\n",
    "datos[\"Fence\"] = datos[\"Fence\"].map({\n",
    "    \"GdPrv\": 4, \n",
    "    \"MnPrv\": 3, \n",
    "    \"GdWo\": 2, \n",
    "    \"MnWw\": 1, \n",
    "    \"NA\": 0\n",
    "})\n",
    "datos[\"MiscFeature\"] = le.fit_transform(datos[\"MiscFeature\"])\n",
    "datos[\"SaleType\"] = le.fit_transform(datos[\"SaleType\"])\n",
    "datos[\"SaleCondition\"] = le.fit_transform(datos[\"SaleCondition\"])\n"
   ]
  },
  {
   "cell_type": "code",
   "execution_count": 44,
   "metadata": {},
   "outputs": [],
   "source": [
    "columns_with_na = datos.isna().any()\n",
    "# Recorrer todas las columnas y rellenar con 0 donde sea necesario\n",
    "for column in columns_with_na.index:\n",
    "    if columns_with_na[column]:\n",
    "        datos[column] = datos[column].fillna(0)"
   ]
  },
  {
   "cell_type": "markdown",
   "metadata": {},
   "source": [
    "### Inciso 2\n",
    "#### Elabore un modelo de regresión usando bayes ingenuo (naive bayes), el conjunto de entrenamiento y la variable respuesta SalesPrice. Prediga con el modelo y explique los resultados a los que llega. Asegúrese que los conjuntos de entrenamiento y prueba sean los mismos de las hojas anteriores para que los modelos sean comparables."
   ]
  },
  {
   "cell_type": "code",
   "execution_count": 45,
   "metadata": {},
   "outputs": [
    {
     "name": "stdout",
     "output_type": "stream",
     "text": [
      "Accuracy: 0.00684931506849315\n",
      "RMSE: 57204.989286547134\n",
      "R2: 0.00684931506849315\n"
     ]
    },
    {
     "name": "stderr",
     "output_type": "stream",
     "text": [
      "c:\\Python311\\Lib\\site-packages\\sklearn\\metrics\\_regression.py:483: FutureWarning: 'squared' is deprecated in version 1.4 and will be removed in 1.6. To calculate the root mean squared error, use the function'root_mean_squared_error'.\n",
      "  warnings.warn(\n"
     ]
    }
   ],
   "source": [
    "import pandas as pd\n",
    "from sklearn.model_selection import train_test_split\n",
    "from sklearn.naive_bayes import GaussianNB\n",
    "from sklearn.metrics import accuracy_score\n",
    "from sklearn.metrics import mean_squared_error\n",
    "\n",
    "\n",
    "#Preparación de los Datos\n",
    "\n",
    "# Definir los límites de las categorías basadas en los percentiles\n",
    "bins = datos['SalePrice'].quantile([0, 0.33, 0.66, 1]).values\n",
    "\n",
    "# Crear las categorías\n",
    "datos['SalePriceCategory'] = pd.cut(datos['SalePrice'], bins, labels=['Bajo', 'Medio', 'Alto'], include_lowest=True)\n",
    "\n",
    "\n",
    "X = datos.drop(['SalePrice', 'SalePriceCategory'], axis=1)\n",
    "y = datos['SalePrice']\n",
    "\n",
    "\n",
    "#Division de conjunto de datos\n",
    "X_train, X_test, y_train, y_test = train_test_split(X, y, test_size=0.3, random_state=42)\n",
    "\n",
    "#Aplicamos Naive Bayes\n",
    "\n",
    "# Inicializar y entrenar el modelo\n",
    "model = GaussianNB()\n",
    "model.fit(X_train, y_train)\n",
    "\n",
    "# Realizar predicciones\n",
    "y_pred = model.predict(X_test)\n",
    "\n",
    "# Evaluar el modelo\n",
    "accuracy = accuracy_score(y_test, y_pred)\n",
    "print(f'Accuracy: {accuracy}')\n",
    "# Predicciones y métricas\n",
    "print(f'RMSE: {mean_squared_error(y_test, y_pred, squared=False)}')\n",
    "print(f'R2: {model.score(X_test, y_test)}')"
   ]
  },
  {
   "cell_type": "markdown",
   "metadata": {},
   "source": [
    "### Inciso 3\n",
    "#### Analice los resultados del modelo de regresión. ¿Qué tan bien le fue prediciendo?"
   ]
  },
  {
   "cell_type": "markdown",
   "metadata": {},
   "source": [
    "El modelo de Bayes ingenuo mostró un RMSE de 57,204.99, accuracy de 0.006849 y un R2 de 0.0068.\n",
    "\n",
    "Al poseer un accuracy extremadamente bajo nos indica que la proporción de predicciones de precios de viviendas, poseera una exactitud tan baja que el modelo casi nunca cierta el precio correcto.\n",
    "\n",
    "Al poseer un RMSW tan alto nos indica que, en promedio, las predicciones de precios de las viviendas se desvían más del valor real en el modelo.\n",
    "Al poseer un R2  tan bajo, nos indica que el modelo actual explica menos del 1% de la variabilidad de los precios de las viviendas, lo cual muy poco efectivo.\n",
    "\n",
    "La muy baja exactitud y el coeficiente R2, junto con un RMSE mayor, sugieren que el modelo no está capturando adecuadamente las tendencias en los datos."
   ]
  },
  {
   "cell_type": "markdown",
   "metadata": {},
   "source": [
    "### Inciso 4\n",
    "#### Compare los resultados con el modelo de regresión lineal y el árbol de regresión que hizo en las hojas pasadas. ¿Cuál funcionó mejor?"
   ]
  },
  {
   "cell_type": "markdown",
   "metadata": {},
   "source": [
    "En base a los resultados obtuvidos con este modelo y comparandolos con los anteriores realizados en las otras 2 hojas de trabajo podemos concluir que a pesar que los otros 2 modelos tienen aspectos a mejorar, el modelo de regresión linela y el modelo de árbol de regresión tienen un mejor rendimiento y poseen mucho mejor RMSE, R2 y presición que el modelo de Bayes ingenuo"
   ]
  },
  {
   "cell_type": "markdown",
   "metadata": {},
   "source": [
    "### Inciso 5\n",
    "#### Haga un modelo de clasificación, use la variable categórica que hizo con el precio de las casas (barata, media y cara) como variable respuesta"
   ]
  },
  {
   "cell_type": "code",
   "execution_count": 46,
   "metadata": {},
   "outputs": [
    {
     "name": "stdout",
     "output_type": "stream",
     "text": [
      "SalePriceCategory\n",
      "Alto     497\n",
      "Bajo     483\n",
      "Medio    480\n",
      "Name: count, dtype: int64\n"
     ]
    }
   ],
   "source": [
    "\n",
    "datos_precios = datos.copy()\n",
    "\n",
    "# Definir los límites de las categorías basadas en los percentiles\n",
    "bins = datos_precios['SalePrice'].quantile([0, 0.33, 0.66, 1]).values\n",
    "\n",
    "# Crear las categorías\n",
    "datos['SalePriceCategory'] = pd.cut(datos_precios['SalePrice'], bins, labels=['Bajo', 'Medio', 'Alto'], include_lowest=True)\n",
    "\n",
    "# Verificar cómo quedaron distribuidas las categorías\n",
    "print(datos_precios['SalePriceCategory'].value_counts())\n",
    "\n",
    "X = datos_precios.drop(['SalePrice', 'SalePriceCategory'], axis=1)\n",
    "y = datos_precios['SalePriceCategory']\n",
    "\n",
    "X_train, X_test, y_train, y_test = train_test_split(X, y, test_size=0.3, random_state=42)\n",
    "#Aplicamos Naive Bayes\n",
    "\n",
    "# Inicializar y entrenar el modelo\n",
    "model = GaussianNB()\n",
    "model.fit(X_train, y_train)\n",
    "\n",
    "# Realizar predicciones\n",
    "y_pred = model.predict(X_test)\n"
   ]
  },
  {
   "cell_type": "markdown",
   "metadata": {},
   "source": [
    "### Inciso 6\n",
    "#### Utilice los modelos con el conjunto de prueba y determine la eficiencia del algoritmo para predecir y clasificar.\n"
   ]
  },
  {
   "cell_type": "code",
   "execution_count": 47,
   "metadata": {},
   "outputs": [
    {
     "name": "stdout",
     "output_type": "stream",
     "text": [
      "Accuracy: 0.7831050228310502\n"
     ]
    }
   ],
   "source": [
    "# Evaluar el modelo\n",
    "accuracy = accuracy_score(y_test, y_pred)\n",
    "print(f'Accuracy: {accuracy}')"
   ]
  },
  {
   "cell_type": "markdown",
   "metadata": {},
   "source": [
    "### Inciso 7\n",
    "#### Análisis de eficiencia del algoritmo usando matriz de confusion"
   ]
  },
  {
   "cell_type": "code",
   "execution_count": 48,
   "metadata": {},
   "outputs": [
    {
     "data": {
      "image/png": "[encoded data removed]",
      "text/plain": [
       "<Figure size 640x480 with 2 Axes>"
      ]
     },
     "metadata": {},
     "output_type": "display_data"
    },
    {
     "name": "stdout",
     "output_type": "stream",
     "text": [
      "              precision    recall  f1-score   support\n",
      "\n",
      "        Alto       0.86      0.81      0.83       142\n",
      "        Bajo       0.81      0.88      0.84       155\n",
      "       Medio       0.67      0.65      0.66       141\n",
      "\n",
      "    accuracy                           0.78       438\n",
      "   macro avg       0.78      0.78      0.78       438\n",
      "weighted avg       0.78      0.78      0.78       438\n",
      "\n"
     ]
    }
   ],
   "source": [
    "from sklearn.metrics import confusion_matrix, classification_report\n",
    "import matplotlib.pyplot as plt\n",
    "import seaborn as sns\n",
    "\n",
    "# Generar matriz de confusión\n",
    "matriz_confusion = confusion_matrix(y_test, y_pred)\n",
    "\n",
    "# Graficar la matriz de confusión\n",
    "sns.heatmap(matriz_confusion, annot=True, fmt=\"d\", cmap=\"Blues\", xticklabels=['Bajo', 'Medio', 'Alto'], yticklabels=['Bajo', 'Medio', 'Alto'])\n",
    "plt.ylabel('Verdaderos')\n",
    "plt.xlabel('Predicciones')\n",
    "plt.title('Matriz de Confusión')\n",
    "plt.show()\n",
    "print(classification_report(y_test, y_pred))"
   ]
  },
  {
   "cell_type": "markdown",
   "metadata": {},
   "source": [
    "### Inciso 8\n",
    "#### Analice el modelo. ¿Cree que pueda estar sobre ajustado?"
   ]
  },
  {
   "cell_type": "code",
   "execution_count": 49,
   "metadata": {},
   "outputs": [
    {
     "name": "stdout",
     "output_type": "stream",
     "text": [
      "Accuracy in train: 0.7818003913894325\n",
      "Accuracy in test: 0.7831050228310502\n",
      "No es posible detectar el sobreajuste.\n"
     ]
    }
   ],
   "source": [
    "# Evaluar el modelo\n",
    "y_train_prediction = model.predict(X_train)\n",
    "train_accuracy = accuracy_score(y_train, y_train_prediction)\n",
    "\n",
    "print(f'Accuracy in train: {train_accuracy}')\n",
    "print(f'Accuracy in test: {accuracy}')\n",
    "\n",
    "# utilizando el 3% como umbral para la detección de sobreajustes\n",
    "if train_accuracy > accuracy + 0.03:\n",
    "    print(\"Posible sobreajuste detectado.\")\n",
    "else:\n",
    "    print(\"No es posible detectar el sobreajuste.\")"
   ]
  },
  {
   "cell_type": "markdown",
   "metadata": {},
   "source": [
    "### Inciso 9\n",
    "#### Validacion cruzada"
   ]
  },
  {
   "cell_type": "code",
   "execution_count": 50,
   "metadata": {},
   "outputs": [
    {
     "name": "stdout",
     "output_type": "stream",
     "text": [
      "Precisión de validación cruzada: 0.85 (+/- 0.03)\n"
     ]
    }
   ],
   "source": [
    "from sklearn.ensemble import RandomForestClassifier\n",
    "from sklearn.model_selection import cross_val_score\n",
    "\n",
    "# Definir el clasificador\n",
    "clf = RandomForestClassifier(n_estimators=100, random_state=42)\n",
    "\n",
    "# Usar validación cruzada\n",
    "scores = cross_val_score(clf, X, y, cv=5)  # cv es el número de pliegues en la validación cruzada\n",
    "\n",
    "print(\"Precisión de validación cruzada: %0.2f (+/- %0.2f)\" % (scores.mean(), scores.std() * 2))\n"
   ]
  },
  {
   "cell_type": "markdown",
   "metadata": {},
   "source": [
    "La presicion de validación cruzada en este modelo fue de 0.85 con una desviacion de +/- 0.03 y el del modelo de árboles de regresión 0.76 +/- 0.03 mostrando que el modelo com validación cruzada mostró por al menos un casi 10% un mejor rendimiento que el del modelo anterior."
   ]
  },
  {
   "cell_type": "markdown",
   "metadata": {},
   "source": [
    "### Inciso 10\n",
    "### Hiperparámetros"
   ]
  },
  {
   "cell_type": "markdown",
   "metadata": {},
   "source": [
    "Modelo de regresión"
   ]
  },
  {
   "cell_type": "code",
   "execution_count": null,
   "metadata": {},
   "outputs": [],
   "source": [
    "from sklearn.model_selection import GridSearchCV\n",
    "\n",
    "# Hiperparámetros a probar\n",
    "param_grid = {'var_smoothing': np.logspace(0,-9, num=100)}\n",
    "\n",
    "# Inicializar y entrenar el modelo con GridSearchCV\n",
    "model = GaussianNB()\n",
    "grid_search = GridSearchCV(model, param_grid, cv=5, scoring='neg_mean_squared_error')\n",
    "grid_search.fit(X_train, y_train)\n",
    "\n",
    "# Mejor modelo\n",
    "best_model_regression = grid_search.best_estimator_\n",
    "\n",
    "# Realizar predicciones\n",
    "y_pred = best_model_regression.predict(X_test)\n",
    "\n",
    "# Evaluar el modelo\n",
    "print(f'RMSE: {mean_squared_error(y_test, y_pred, squared=False)}')\n",
    "print(f'R2: {best_model_regression.score(X_test, y_test)}')"
   ]
  },
  {
   "cell_type": "markdown",
   "metadata": {},
   "source": [
    "Modelo de comparación"
   ]
  },
  {
   "cell_type": "code",
   "execution_count": null,
   "metadata": {},
   "outputs": [],
   "source": [
    "from sklearn.model_selection import GridSearchCV\n",
    "\n",
    "grid_search_clf = GridSearchCV(model, param_grid, cv=5, scoring='accuracy')\n",
    "grid_search_clf.fit(X_train, y_train)\n",
    "\n",
    "# Mejor modelo\n",
    "best_model_classification = grid_search_clf.best_estimator_\n",
    "\n",
    "# Realizar predicciones\n",
    "y_pred = best_model_classification.predict(X_test)\n",
    "\n",
    "# Evaluar el modelo\n",
    "accuracy = accuracy_score(y_test, y_pred)\n",
    "print(f'Accuracy: {accuracy}')"
   ]
  },
  {
   "cell_type": "markdown",
   "metadata": {},
   "source": [
    "### Inciso 11\n",
    "### Compación de árbol de decisión de clasificación y el modelo de random forest."
   ]
  }
 ],
 "metadata": {
  "kernelspec": {
   "display_name": "Python 3",
   "language": "python",
   "name": "python3"
  },
  "language_info": {
   "codemirror_mode": {
    "name": "ipython",
    "version": 3
   },
   "file_extension": ".py",
   "mimetype": "text/x-python",
   "name": "python",
   "nbconvert_exporter": "python",
   "pygments_lexer": "ipython3",
   "version": "3.11.8"
  }
 },
 "nbformat": 4,
 "nbformat_minor": 2
}
